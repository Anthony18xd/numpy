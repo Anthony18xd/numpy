{
  "nbformat": 4,
  "nbformat_minor": 0,
  "metadata": {
    "colab": {
      "provenance": [],
      "authorship_tag": "ABX9TyOU/SI63cnISdQvA9cijrxi",
      "include_colab_link": true
    },
    "kernelspec": {
      "name": "python3",
      "display_name": "Python 3"
    },
    "language_info": {
      "name": "python"
    }
  },
  "cells": [
    {
      "cell_type": "markdown",
      "metadata": {
        "id": "view-in-github",
        "colab_type": "text"
      },
      "source": [
        "<a href=\"https://colab.research.google.com/github/Anthony18xd/numpy/blob/main/ejercicios_bacicos.ipynb\" target=\"_parent\"><img src=\"https://colab.research.google.com/assets/colab-badge.svg\" alt=\"Open In Colab\"/></a>"
      ]
    },
    {
      "cell_type": "code",
      "execution_count": null,
      "metadata": {
        "id": "PtPEJ3M1tY5V"
      },
      "outputs": [],
      "source": []
    },
    {
      "cell_type": "markdown",
      "source": [
        "numPY LIBRERIA DE CIENCIA DE DATOS**"
      ],
      "metadata": {
        "id": "BsvmpopnuAqR"
      }
    },
    {
      "cell_type": "code",
      "source": [
        "import numpy as np\n",
        "#pip intall numpy"
      ],
      "metadata": {
        "id": "IaEAFLdYuibM"
      },
      "execution_count": 2,
      "outputs": []
    },
    {
      "cell_type": "code",
      "source": [
        "array_id=np.array((10,20,30))\n",
        "print(array_id)"
      ],
      "metadata": {
        "colab": {
          "base_uri": "https://localhost:8080/"
        },
        "id": "GhegKN42vn7u",
        "outputId": "71289ed5-3dc7-45db-acff-07a482f5d42c"
      },
      "execution_count": 3,
      "outputs": [
        {
          "output_type": "stream",
          "name": "stdout",
          "text": [
            "[10 20 30]\n"
          ]
        }
      ]
    },
    {
      "cell_type": "code",
      "source": [
        "array_id"
      ],
      "metadata": {
        "colab": {
          "base_uri": "https://localhost:8080/"
        },
        "id": "JXNFdXqWwUz0",
        "outputId": "711a9e5f-77b9-49fd-9d8a-91bdaa5d952a"
      },
      "execution_count": 4,
      "outputs": [
        {
          "output_type": "execute_result",
          "data": {
            "text/plain": [
              "array([10, 20, 30])"
            ]
          },
          "metadata": {},
          "execution_count": 4
        }
      ]
    },
    {
      "cell_type": "code",
      "source": [
        "array_2d=np.array(((10,20,30),(50,60,70)))\n",
        "array_2d"
      ],
      "metadata": {
        "colab": {
          "base_uri": "https://localhost:8080/"
        },
        "id": "ujtdkv--xDBP",
        "outputId": "7ffa06fa-c94e-495c-c5a0-117e93c82baf"
      },
      "execution_count": 5,
      "outputs": [
        {
          "output_type": "execute_result",
          "data": {
            "text/plain": [
              "array([[10, 20, 30],\n",
              "       [50, 60, 70]])"
            ]
          },
          "metadata": {},
          "execution_count": 5
        }
      ]
    },
    {
      "cell_type": "code",
      "source": [
        "array_3d=np.array((((10.5,20,30,40),(60,70,80,90),(5,7,9,8))),dtype=float)\n",
        "array_3d"
      ],
      "metadata": {
        "colab": {
          "base_uri": "https://localhost:8080/"
        },
        "id": "a_8cDIG3xuQ8",
        "outputId": "b2b94b58-786f-4c5b-a1d9-381077819372"
      },
      "execution_count": 8,
      "outputs": [
        {
          "output_type": "execute_result",
          "data": {
            "text/plain": [
              "array([[10.5, 20. , 30. , 40. ],\n",
              "       [60. , 70. , 80. , 90. ],\n",
              "       [ 5. ,  7. ,  9. ,  8. ]])"
            ]
          },
          "metadata": {},
          "execution_count": 8
        }
      ]
    },
    {
      "cell_type": "code",
      "source": [
        "np.zeros((3,4))"
      ],
      "metadata": {
        "colab": {
          "base_uri": "https://localhost:8080/"
        },
        "id": "hzIw1jb54bBw",
        "outputId": "977715b3-5d5e-437d-ae70-09ef1a287e16"
      },
      "execution_count": 9,
      "outputs": [
        {
          "output_type": "execute_result",
          "data": {
            "text/plain": [
              "array([[0., 0., 0., 0.],\n",
              "       [0., 0., 0., 0.],\n",
              "       [0., 0., 0., 0.]])"
            ]
          },
          "metadata": {},
          "execution_count": 9
        }
      ]
    },
    {
      "cell_type": "code",
      "source": [
        "print(np.zeros((4,5)))"
      ],
      "metadata": {
        "colab": {
          "base_uri": "https://localhost:8080/"
        },
        "id": "g6NPx3SJ4tm_",
        "outputId": "159c9fa9-c501-4a07-e8b1-ebb8f78779b1"
      },
      "execution_count": 10,
      "outputs": [
        {
          "output_type": "stream",
          "name": "stdout",
          "text": [
            "[[0. 0. 0. 0. 0.]\n",
            " [0. 0. 0. 0. 0.]\n",
            " [0. 0. 0. 0. 0.]\n",
            " [0. 0. 0. 0. 0.]]\n"
          ]
        }
      ]
    },
    {
      "cell_type": "markdown",
      "source": [
        "array de unos con 2 dimensiones 4 filas 5 columnas"
      ],
      "metadata": {
        "id": "MjRj3S8f42Uw"
      }
    },
    {
      "cell_type": "code",
      "source": [
        "np.ones((2,4,5))"
      ],
      "metadata": {
        "colab": {
          "base_uri": "https://localhost:8080/"
        },
        "id": "sIVbUNR4498w",
        "outputId": "66660938-8d88-4b8f-8d6b-66f3ce2520b8"
      },
      "execution_count": 12,
      "outputs": [
        {
          "output_type": "execute_result",
          "data": {
            "text/plain": [
              "array([[[1., 1., 1., 1., 1.],\n",
              "        [1., 1., 1., 1., 1.],\n",
              "        [1., 1., 1., 1., 1.],\n",
              "        [1., 1., 1., 1., 1.]],\n",
              "\n",
              "       [[1., 1., 1., 1., 1.],\n",
              "        [1., 1., 1., 1., 1.],\n",
              "        [1., 1., 1., 1., 1.],\n",
              "        [1., 1., 1., 1., 1.]]])"
            ]
          },
          "metadata": {},
          "execution_count": 12
        }
      ]
    },
    {
      "cell_type": "markdown",
      "source": [
        "arrays intervalos y saltos"
      ],
      "metadata": {
        "id": "WeEcdNI65Vna"
      }
    },
    {
      "cell_type": "code",
      "source": [
        "np.arange(11,30,2)"
      ],
      "metadata": {
        "colab": {
          "base_uri": "https://localhost:8080/"
        },
        "id": "GblVmDS05aO7",
        "outputId": "bee9ff4c-2fdc-4560-9765-f9caaca6812c"
      },
      "execution_count": 13,
      "outputs": [
        {
          "output_type": "execute_result",
          "data": {
            "text/plain": [
              "array([11, 13, 15, 17, 19, 21, 23, 25, 27, 29])"
            ]
          },
          "metadata": {},
          "execution_count": 13
        }
      ]
    },
    {
      "cell_type": "code",
      "source": [
        "import numpy as np\n",
        "\n",
        "def es_primo(n):\n",
        "    if n < 2:\n",
        "        return False\n",
        "    return not any(n % i == 0 for i in range(2, int(n**0.5) + 1))\n",
        "\n",
        "numeros = np.arange(15, 30)\n",
        "primos = numeros[np.array([es_primo(num) for num in numeros])]\n",
        "print(primos)"
      ],
      "metadata": {
        "colab": {
          "base_uri": "https://localhost:8080/"
        },
        "id": "fAXpGdSc5-UU",
        "outputId": "4b7503a6-fd7f-4e09-aa80-179bed880e0d"
      },
      "execution_count": 15,
      "outputs": [
        {
          "output_type": "stream",
          "name": "stdout",
          "text": [
            "[17 19 23 29]\n"
          ]
        }
      ]
    },
    {
      "cell_type": "markdown",
      "source": [
        "array con intervalos y divisiones"
      ],
      "metadata": {
        "id": "Y4TG6xqy77sC"
      }
    },
    {
      "cell_type": "code",
      "source": [
        "np.linspace(0,4,7)"
      ],
      "metadata": {
        "colab": {
          "base_uri": "https://localhost:8080/"
        },
        "id": "WFd-Sg1G8B-R",
        "outputId": "8270485c-e5b8-41a0-a684-b61b142b56cf"
      },
      "execution_count": 16,
      "outputs": [
        {
          "output_type": "execute_result",
          "data": {
            "text/plain": [
              "array([0.        , 0.66666667, 1.33333333, 2.        , 2.66666667,\n",
              "       3.33333333, 4.        ])"
            ]
          },
          "metadata": {},
          "execution_count": 16
        }
      ]
    },
    {
      "cell_type": "markdown",
      "source": [
        "arrays con valores dados"
      ],
      "metadata": {
        "id": "oPJ2X5fS8j2L"
      }
    },
    {
      "cell_type": "code",
      "source": [
        "np.full((4,3),7)"
      ],
      "metadata": {
        "colab": {
          "base_uri": "https://localhost:8080/"
        },
        "id": "Yu3Vc6gA8nzL",
        "outputId": "8343efe4-13e9-40cb-c38b-0e6b151adc79"
      },
      "execution_count": 18,
      "outputs": [
        {
          "output_type": "execute_result",
          "data": {
            "text/plain": [
              "array([[7, 7, 7],\n",
              "       [7, 7, 7],\n",
              "       [7, 7, 7],\n",
              "       [7, 7, 7]])"
            ]
          },
          "metadata": {},
          "execution_count": 18
        }
      ]
    },
    {
      "cell_type": "markdown",
      "source": [
        "array matriz identidad y diagonal de unos"
      ],
      "metadata": {
        "id": "DxIeiti887uk"
      }
    },
    {
      "cell_type": "code",
      "source": [
        "np.eye((3),(0))"
      ],
      "metadata": {
        "colab": {
          "base_uri": "https://localhost:8080/"
        },
        "id": "NNWoEHdo9W-u",
        "outputId": "ab78edc8-bc44-46e7-bc8a-fbba2fcf088a"
      },
      "execution_count": 23,
      "outputs": [
        {
          "output_type": "execute_result",
          "data": {
            "text/plain": [
              "array([], shape=(3, 0), dtype=float64)"
            ]
          },
          "metadata": {},
          "execution_count": 23
        }
      ]
    },
    {
      "cell_type": "markdown",
      "source": [
        "array valos aleatorios"
      ],
      "metadata": {
        "id": "no5U8XjI-hYB"
      }
    },
    {
      "cell_type": "code",
      "source": [
        "np.random.random((4,4))"
      ],
      "metadata": {
        "colab": {
          "base_uri": "https://localhost:8080/"
        },
        "id": "6eykkCeQ-qPI",
        "outputId": "d887a039-5a1b-40a0-86f3-0e3b0fe971d3"
      },
      "execution_count": 28,
      "outputs": [
        {
          "output_type": "execute_result",
          "data": {
            "text/plain": [
              "array([[0.31277018, 0.45551313, 0.75331627, 0.79093376],\n",
              "       [0.36953182, 0.29002997, 0.74085523, 0.46843198],\n",
              "       [0.99503574, 0.65530234, 0.41496882, 0.93844275],\n",
              "       [0.67918789, 0.89891873, 0.71905967, 0.56082711]])"
            ]
          },
          "metadata": {},
          "execution_count": 28
        }
      ]
    },
    {
      "cell_type": "markdown",
      "source": [
        "array de numeros vacios 4*3"
      ],
      "metadata": {
        "id": "K5ZP6uVG_FTZ"
      }
    },
    {
      "cell_type": "code",
      "source": [
        "np.empty((4,3))"
      ],
      "metadata": {
        "colab": {
          "base_uri": "https://localhost:8080/"
        },
        "id": "49S0xke0_O7Q",
        "outputId": "8ea54859-0ddc-49ef-b4f2-3d1eff02aaaf"
      },
      "execution_count": 31,
      "outputs": [
        {
          "output_type": "execute_result",
          "data": {
            "text/plain": [
              "array([[10.5, 20. , 30. ],\n",
              "       [40. , 60. , 70. ],\n",
              "       [80. , 90. ,  5. ],\n",
              "       [ 7. ,  9. ,  8. ]])"
            ]
          },
          "metadata": {},
          "execution_count": 31
        }
      ]
    },
    {
      "cell_type": "markdown",
      "source": [
        "guardar y cargar"
      ],
      "metadata": {
        "id": "U9c7pvu6Bfme"
      }
    },
    {
      "cell_type": "code",
      "source": [
        "#grabar\n",
        "np.save('mi_array_3d.npy',array_3d)"
      ],
      "metadata": {
        "id": "bqq96fbzBh5P"
      },
      "execution_count": 48,
      "outputs": []
    },
    {
      "cell_type": "code",
      "source": [
        "#cargar\n",
        "nl_array=np.load('mi_array_3d.npy')\n",
        "nl_array"
      ],
      "metadata": {
        "colab": {
          "base_uri": "https://localhost:8080/"
        },
        "id": "YA_x-lxgCpYY",
        "outputId": "78c7cccd-452e-4356-ff27-e3f3e6ebbcf2"
      },
      "execution_count": 50,
      "outputs": [
        {
          "output_type": "execute_result",
          "data": {
            "text/plain": [
              "array([[10.5, 20. , 30. , 40. ],\n",
              "       [60. , 70. , 80. , 90. ],\n",
              "       [ 5. ,  7. ,  9. ,  8. ]])"
            ]
          },
          "metadata": {},
          "execution_count": 50
        }
      ]
    },
    {
      "cell_type": "code",
      "metadata": {
        "colab": {
          "base_uri": "https://localhost:8080/"
        },
        "id": "a3de946d",
        "outputId": "6ef7bf32-f5c7-4e57-bf9f-208fe4f5dfcd"
      },
      "source": [
        "array_2d=np.array(((10,20,30),(50,60,70)))\n",
        "array_2d"
      ],
      "execution_count": 52,
      "outputs": [
        {
          "output_type": "execute_result",
          "data": {
            "text/plain": [
              "array([[10, 20, 30],\n",
              "       [50, 60, 70]])"
            ]
          },
          "metadata": {},
          "execution_count": 52
        }
      ]
    },
    {
      "cell_type": "code",
      "metadata": {
        "colab": {
          "base_uri": "https://localhost:8080/"
        },
        "id": "b62e0403",
        "outputId": "66e8e580-1ce2-4de7-f4c1-fd6d5294f762"
      },
      "source": [
        "# cargar array_2d\n",
        "loaded_array_2d = np.load('mi_array_2d.npy')\n",
        "loaded_array_2d"
      ],
      "execution_count": 54,
      "outputs": [
        {
          "output_type": "execute_result",
          "data": {
            "text/plain": [
              "array([[10, 20, 30],\n",
              "       [50, 60, 70]])"
            ]
          },
          "metadata": {},
          "execution_count": 54
        }
      ]
    },
    {
      "cell_type": "markdown",
      "source": [
        "grabar y cargar ficheros y texto"
      ],
      "metadata": {
        "id": "KTadmt3oE5ac"
      }
    },
    {
      "cell_type": "code",
      "source": [
        "#grabar el fichero de texto\n",
        "np.savetxt('mi_array.txt',array_2d,delimiter=\" \")"
      ],
      "metadata": {
        "id": "oPLEfwXaE9z7"
      },
      "execution_count": 56,
      "outputs": []
    },
    {
      "cell_type": "code",
      "source": [
        "#cargar de fichero de texto\n",
        "np.loadtxt('mi_array.txt')"
      ],
      "metadata": {
        "colab": {
          "base_uri": "https://localhost:8080/"
        },
        "id": "Wir2iavkGGFt",
        "outputId": "740f297d-9e81-4bc3-c2b3-ff12ea3dc9c1"
      },
      "execution_count": 58,
      "outputs": [
        {
          "output_type": "execute_result",
          "data": {
            "text/plain": [
              "array([[10., 20., 30.],\n",
              "       [50., 60., 70.]])"
            ]
          },
          "metadata": {},
          "execution_count": 58
        }
      ]
    },
    {
      "cell_type": "markdown",
      "source": [
        "EJERCICIOS PROPUESTOS"
      ],
      "metadata": {
        "id": "fbbuAbMKMXqD"
      }
    },
    {
      "cell_type": "code",
      "source": [
        "asignaturas = np.array([\"Matemáticas\", \"Física\", \"Química\", \"Historia\", \"Lengua\"])\n",
        "print(asignaturas)"
      ],
      "metadata": {
        "colab": {
          "base_uri": "https://localhost:8080/"
        },
        "id": "v0gOxbOaMWI0",
        "outputId": "d9499e0a-3cf1-47d4-9f81-c0d3b2b887b8"
      },
      "execution_count": 62,
      "outputs": [
        {
          "output_type": "stream",
          "name": "stdout",
          "text": [
            "['Matemáticas' 'Física' 'Química' 'Historia' 'Lengua']\n"
          ]
        }
      ]
    },
    {
      "cell_type": "code",
      "source": [
        "asignaturas = np.array([\"Matemáticas\", \"Física\", \"Química\", \"Historia\", \"Lengua\"])\n",
        "for asignatura in asignaturas:\n",
        "    f\"Yo estudio {asignatura}\"\n",
        "    print(f\"Yo estudio {asignatura}\")"
      ],
      "metadata": {
        "colab": {
          "base_uri": "https://localhost:8080/"
        },
        "id": "PkEIzVWGPlv-",
        "outputId": "c141802e-8426-4158-8b49-e4a91e2e74ea"
      },
      "execution_count": 65,
      "outputs": [
        {
          "output_type": "stream",
          "name": "stdout",
          "text": [
            "Yo estudio Matemáticas\n",
            "Yo estudio Física\n",
            "Yo estudio Química\n",
            "Yo estudio Historia\n",
            "Yo estudio Lengua\n"
          ]
        }
      ]
    },
    {
      "cell_type": "code",
      "source": [
        "asignaturas = np.array([\"Matemáticas\", \"Física\", \"Química\", \"Historia\", \"Lengua\"])\n",
        "notas = np.zeros(len(asignaturas))\n",
        "\n",
        "for i, asignatura in enumerate(asignaturas):\n",
        "    nota = float(input(f\"¿Qué nota has sacado en {asignatura}? \"))\n",
        "    notas[i] = nota\n",
        "\n",
        "resultados = [f\"En {asignaturas[i]} has sacado {notas[i]}\" for i in range(len(asignaturas))]\n",
        "nota_media = np.mean(notas)"
      ],
      "metadata": {
        "colab": {
          "base_uri": "https://localhost:8080/"
        },
        "id": "0o51iHhmQpDP",
        "outputId": "543e23fc-2fcf-4f3f-c397-bbdc4065b905"
      },
      "execution_count": 66,
      "outputs": [
        {
          "name": "stdout",
          "output_type": "stream",
          "text": [
            "¿Qué nota has sacado en Matemáticas? 15\n",
            "¿Qué nota has sacado en Física? 08\n",
            "¿Qué nota has sacado en Química? 10\n",
            "¿Qué nota has sacado en Historia? 16\n",
            "¿Qué nota has sacado en Lengua? 18\n"
          ]
        }
      ]
    },
    {
      "cell_type": "code",
      "source": [
        "numeros_loteria = np.zeros(6, dtype=int)\n",
        "\n",
        "for i in range(6):\n",
        "    numero = int(input(f\"Introduce el número {i+1} ganador de la lotería primitiva: \"))\n",
        "    numeros_loteria[i] = numero\n",
        "\n",
        "numeros_ordenados = np.sort(numeros_loteria)"
      ],
      "metadata": {
        "colab": {
          "base_uri": "https://localhost:8080/"
        },
        "id": "8bx6yFmzQ18d",
        "outputId": "9b186504-2dcd-4fff-8389-dfa3dc5166a8"
      },
      "execution_count": 67,
      "outputs": [
        {
          "name": "stdout",
          "output_type": "stream",
          "text": [
            "Introduce el número 1 ganador de la lotería primitiva: 8\n",
            "Introduce el número 2 ganador de la lotería primitiva: 45\n",
            "Introduce el número 3 ganador de la lotería primitiva: 46\n",
            "Introduce el número 4 ganador de la lotería primitiva: 78\n",
            "Introduce el número 5 ganador de la lotería primitiva: 12\n",
            "Introduce el número 6 ganador de la lotería primitiva: 16\n"
          ]
        }
      ]
    },
    {
      "cell_type": "code",
      "source": [
        "numeros = np.arange(1, 11)\n",
        "numeros_inverso = np.flip(numeros)\n",
        "resultado_string = \" , \".join(map(str, numeros_inverso))\n",
        "print(resultado_string)"
      ],
      "metadata": {
        "colab": {
          "base_uri": "https://localhost:8080/"
        },
        "id": "y473RGOmRGA_",
        "outputId": "04242bef-6551-4a94-b37e-47d1b9e30a3d"
      },
      "execution_count": 71,
      "outputs": [
        {
          "output_type": "stream",
          "name": "stdout",
          "text": [
            "10 , 9 , 8 , 7 , 6 , 5 , 4 , 3 , 2 , 1\n"
          ]
        }
      ]
    },
    {
      "cell_type": "code",
      "source": [
        "asignaturas = np.array([\"Matemáticas\", \"Física\", \"Química\", \"Historia\", \"Lengua\"])\n",
        "notas = np.zeros(len(asignaturas))\n",
        "\n",
        "for i, asignatura in enumerate(asignaturas):\n",
        "    while True:\n",
        "        try:\n",
        "            nota = float(input(f\"¿Qué nota has sacado en {asignatura}? \"))\n",
        "            if 0 <= nota <= 20:\n",
        "                notas[i] = nota\n",
        "                break\n",
        "            else:\n",
        "                print(\"Por favor, introduce una nota entre 0 y 20.\")\n",
        "        except ValueError:\n",
        "            print(\"Entrada inválida. Por favor, introduce un número.\")\n",
        "\n",
        "suspensas_mask = notas <= 10  # Passing grade is 11, so 10 or below is failing\n",
        "asignaturas_repetir = asignaturas[suspensas_mask]\n",
        "notas_suspensas = notas[suspensas_mask]\n",
        "\n",
        "print(\"\\nAsignaturas a recuperar:\")\n",
        "if len(asignaturas_repetir) > 0:\n",
        "    for i in range(len(asignaturas_repetir)):\n",
        "        print(f\"- {asignaturas_repetir[i]}: {notas_suspensas[i]}\")\n",
        "else:\n",
        "    print(\"¡Enhorabuena! No tienes asignaturas a recuperar.\")"
      ],
      "metadata": {
        "colab": {
          "base_uri": "https://localhost:8080/"
        },
        "id": "_dSdxwRERq8n",
        "outputId": "12c36950-e6b0-4743-9249-4f19cc43e921"
      },
      "execution_count": 74,
      "outputs": [
        {
          "output_type": "stream",
          "name": "stdout",
          "text": [
            "¿Qué nota has sacado en Matemáticas? 01\n",
            "¿Qué nota has sacado en Física? 15\n",
            "¿Qué nota has sacado en Química? 16\n",
            "¿Qué nota has sacado en Historia? 16\n",
            "¿Qué nota has sacado en Lengua? 08\n",
            "\n",
            "Asignaturas a recuperar:\n",
            "- Matemáticas: 1.0\n",
            "- Lengua: 8.0\n"
          ]
        }
      ]
    },
    {
      "cell_type": "code",
      "source": [
        "import string\n",
        "import numpy as np\n",
        "\n",
        "abecedario = np.array(list(string.ascii_lowercase))\n",
        "posiciones = np.arange(1, len(abecedario) + 1)\n",
        "mask = posiciones % 3 != 0\n",
        "abecedario_filtrado = abecedario[mask]\n",
        "print(abecedario_filtrado)"
      ],
      "metadata": {
        "colab": {
          "base_uri": "https://localhost:8080/"
        },
        "id": "0HNHO3MfSrdB",
        "outputId": "22510cb1-872d-4611-8f88-ee05a7fa4443"
      },
      "execution_count": 79,
      "outputs": [
        {
          "output_type": "stream",
          "name": "stdout",
          "text": [
            "['a' 'b' 'd' 'e' 'g' 'h' 'j' 'k' 'm' 'n' 'p' 'q' 's' 't' 'v' 'w' 'y' 'z']\n"
          ]
        }
      ]
    },
    {
      "cell_type": "code",
      "source": [
        "palabra = input(\"Introduce una palabra: \").lower()\n",
        "palabra_array = np.array(list(palabra))\n",
        "palabra_invertida = np.flip(palabra_array)\n",
        "es_palindromo = np.array_equal(palabra_array, palabra_invertida)"
      ],
      "metadata": {
        "colab": {
          "base_uri": "https://localhost:8080/"
        },
        "id": "Xe3yf4SwV72a",
        "outputId": "4045333e-2a90-456a-80f1-f3a8b8ec31ce"
      },
      "execution_count": 80,
      "outputs": [
        {
          "name": "stdout",
          "output_type": "stream",
          "text": [
            "Introduce una palabra: hola\n"
          ]
        }
      ]
    },
    {
      "cell_type": "code",
      "metadata": {
        "colab": {
          "base_uri": "https://localhost:8080/"
        },
        "id": "5853635e",
        "outputId": "4acf2314-174d-491c-efa8-91cbb15189f3"
      },
      "source": [
        "import numpy as np\n",
        "\n",
        "palabra = input(\"Introduce una palabra: \").lower()\n",
        "palabra_array = np.array(list(palabra))\n",
        "vocales = np.array(['a', 'e', 'i', 'o', 'u'])\n",
        "\n",
        "print(f\"La palabra '{palabra}' contiene:\")\n",
        "\n",
        "for vocal in vocales:\n",
        "    count = np.sum(palabra_array == vocal)\n",
        "    print(f\"- La vocal '{vocal}' aparece {count} veces.\")"
      ],
      "execution_count": 83,
      "outputs": [
        {
          "output_type": "stream",
          "name": "stdout",
          "text": [
            "Introduce una palabra: hol\n",
            "La palabra 'hol' contiene:\n",
            "- La vocal 'a' aparece 0 veces.\n",
            "- La vocal 'e' aparece 0 veces.\n",
            "- La vocal 'i' aparece 0 veces.\n",
            "- La vocal 'o' aparece 1 veces.\n",
            "- La vocal 'u' aparece 0 veces.\n"
          ]
        }
      ]
    }
  ]
}