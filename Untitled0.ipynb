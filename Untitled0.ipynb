{
  "nbformat": 4,
  "nbformat_minor": 0,
  "metadata": {
    "colab": {
      "provenance": [],
      "authorship_tag": "ABX9TyPjTzaDrp8/V6uDVD7nHvdW",
      "include_colab_link": true
    },
    "kernelspec": {
      "name": "python3",
      "display_name": "Python 3"
    },
    "language_info": {
      "name": "python"
    }
  },
  "cells": [
    {
      "cell_type": "markdown",
      "metadata": {
        "id": "view-in-github",
        "colab_type": "text"
      },
      "source": [
        "<a href=\"https://colab.research.google.com/github/Anthony18xd/numpy/blob/main/Untitled0.ipynb\" target=\"_parent\"><img src=\"https://colab.research.google.com/assets/colab-badge.svg\" alt=\"Open In Colab\"/></a>"
      ]
    },
    {
      "cell_type": "code",
      "execution_count": null,
      "metadata": {
        "id": "PtPEJ3M1tY5V"
      },
      "outputs": [],
      "source": []
    },
    {
      "cell_type": "markdown",
      "source": [
        "numPY LIBRERIA DE CIENCIA DE DATOS**"
      ],
      "metadata": {
        "id": "BsvmpopnuAqR"
      }
    },
    {
      "cell_type": "code",
      "source": [
        "import numpy as np\n",
        "#pip intall numpy"
      ],
      "metadata": {
        "id": "IaEAFLdYuibM"
      },
      "execution_count": 2,
      "outputs": []
    },
    {
      "cell_type": "code",
      "source": [
        "array_id=np.array((10,20,30))\n",
        "print(array_id)"
      ],
      "metadata": {
        "colab": {
          "base_uri": "https://localhost:8080/"
        },
        "id": "GhegKN42vn7u",
        "outputId": "71289ed5-3dc7-45db-acff-07a482f5d42c"
      },
      "execution_count": 3,
      "outputs": [
        {
          "output_type": "stream",
          "name": "stdout",
          "text": [
            "[10 20 30]\n"
          ]
        }
      ]
    },
    {
      "cell_type": "code",
      "source": [
        "array_id"
      ],
      "metadata": {
        "colab": {
          "base_uri": "https://localhost:8080/"
        },
        "id": "JXNFdXqWwUz0",
        "outputId": "711a9e5f-77b9-49fd-9d8a-91bdaa5d952a"
      },
      "execution_count": 4,
      "outputs": [
        {
          "output_type": "execute_result",
          "data": {
            "text/plain": [
              "array([10, 20, 30])"
            ]
          },
          "metadata": {},
          "execution_count": 4
        }
      ]
    },
    {
      "cell_type": "code",
      "source": [
        "array_2d=np.array(((10,20,30),(50,60,70)))\n",
        "array_2d"
      ],
      "metadata": {
        "colab": {
          "base_uri": "https://localhost:8080/"
        },
        "id": "ujtdkv--xDBP",
        "outputId": "7ffa06fa-c94e-495c-c5a0-117e93c82baf"
      },
      "execution_count": 5,
      "outputs": [
        {
          "output_type": "execute_result",
          "data": {
            "text/plain": [
              "array([[10, 20, 30],\n",
              "       [50, 60, 70]])"
            ]
          },
          "metadata": {},
          "execution_count": 5
        }
      ]
    },
    {
      "cell_type": "code",
      "source": [
        "array_3d=np.array((((10.5,20,30,40),(60,70,80,90),(5,7,9,8))),dtype=float)\n",
        "array_3d"
      ],
      "metadata": {
        "colab": {
          "base_uri": "https://localhost:8080/"
        },
        "id": "a_8cDIG3xuQ8",
        "outputId": "b2b94b58-786f-4c5b-a1d9-381077819372"
      },
      "execution_count": 8,
      "outputs": [
        {
          "output_type": "execute_result",
          "data": {
            "text/plain": [
              "array([[10.5, 20. , 30. , 40. ],\n",
              "       [60. , 70. , 80. , 90. ],\n",
              "       [ 5. ,  7. ,  9. ,  8. ]])"
            ]
          },
          "metadata": {},
          "execution_count": 8
        }
      ]
    },
    {
      "cell_type": "code",
      "source": [
        "np.zeros((3,4))"
      ],
      "metadata": {
        "colab": {
          "base_uri": "https://localhost:8080/"
        },
        "id": "hzIw1jb54bBw",
        "outputId": "977715b3-5d5e-437d-ae70-09ef1a287e16"
      },
      "execution_count": 9,
      "outputs": [
        {
          "output_type": "execute_result",
          "data": {
            "text/plain": [
              "array([[0., 0., 0., 0.],\n",
              "       [0., 0., 0., 0.],\n",
              "       [0., 0., 0., 0.]])"
            ]
          },
          "metadata": {},
          "execution_count": 9
        }
      ]
    },
    {
      "cell_type": "code",
      "source": [
        "print(np.zeros((4,5)))"
      ],
      "metadata": {
        "colab": {
          "base_uri": "https://localhost:8080/"
        },
        "id": "g6NPx3SJ4tm_",
        "outputId": "159c9fa9-c501-4a07-e8b1-ebb8f78779b1"
      },
      "execution_count": 10,
      "outputs": [
        {
          "output_type": "stream",
          "name": "stdout",
          "text": [
            "[[0. 0. 0. 0. 0.]\n",
            " [0. 0. 0. 0. 0.]\n",
            " [0. 0. 0. 0. 0.]\n",
            " [0. 0. 0. 0. 0.]]\n"
          ]
        }
      ]
    },
    {
      "cell_type": "markdown",
      "source": [
        "array de unos con 2 dimensiones 4 filas 5 columnas"
      ],
      "metadata": {
        "id": "MjRj3S8f42Uw"
      }
    },
    {
      "cell_type": "code",
      "source": [
        "np.ones((2,4,5))"
      ],
      "metadata": {
        "colab": {
          "base_uri": "https://localhost:8080/"
        },
        "id": "sIVbUNR4498w",
        "outputId": "66660938-8d88-4b8f-8d6b-66f3ce2520b8"
      },
      "execution_count": 12,
      "outputs": [
        {
          "output_type": "execute_result",
          "data": {
            "text/plain": [
              "array([[[1., 1., 1., 1., 1.],\n",
              "        [1., 1., 1., 1., 1.],\n",
              "        [1., 1., 1., 1., 1.],\n",
              "        [1., 1., 1., 1., 1.]],\n",
              "\n",
              "       [[1., 1., 1., 1., 1.],\n",
              "        [1., 1., 1., 1., 1.],\n",
              "        [1., 1., 1., 1., 1.],\n",
              "        [1., 1., 1., 1., 1.]]])"
            ]
          },
          "metadata": {},
          "execution_count": 12
        }
      ]
    },
    {
      "cell_type": "markdown",
      "source": [
        "arrays intervalos y saltos"
      ],
      "metadata": {
        "id": "WeEcdNI65Vna"
      }
    },
    {
      "cell_type": "code",
      "source": [
        "np.arange(11,30,2)"
      ],
      "metadata": {
        "colab": {
          "base_uri": "https://localhost:8080/"
        },
        "id": "GblVmDS05aO7",
        "outputId": "bee9ff4c-2fdc-4560-9765-f9caaca6812c"
      },
      "execution_count": 13,
      "outputs": [
        {
          "output_type": "execute_result",
          "data": {
            "text/plain": [
              "array([11, 13, 15, 17, 19, 21, 23, 25, 27, 29])"
            ]
          },
          "metadata": {},
          "execution_count": 13
        }
      ]
    },
    {
      "cell_type": "code",
      "source": [
        "import numpy as np\n",
        "\n",
        "def es_primo(n):\n",
        "    if n < 2:\n",
        "        return False\n",
        "    return not any(n % i == 0 for i in range(2, int(n**0.5) + 1))\n",
        "\n",
        "numeros = np.arange(15, 30)\n",
        "primos = numeros[np.array([es_primo(num) for num in numeros])]\n",
        "print(primos)"
      ],
      "metadata": {
        "colab": {
          "base_uri": "https://localhost:8080/"
        },
        "id": "fAXpGdSc5-UU",
        "outputId": "4b7503a6-fd7f-4e09-aa80-179bed880e0d"
      },
      "execution_count": 15,
      "outputs": [
        {
          "output_type": "stream",
          "name": "stdout",
          "text": [
            "[17 19 23 29]\n"
          ]
        }
      ]
    },
    {
      "cell_type": "markdown",
      "source": [
        "array con intervalos y divisiones"
      ],
      "metadata": {
        "id": "Y4TG6xqy77sC"
      }
    },
    {
      "cell_type": "code",
      "source": [
        "np.linspace(0,4,7)"
      ],
      "metadata": {
        "colab": {
          "base_uri": "https://localhost:8080/"
        },
        "id": "WFd-Sg1G8B-R",
        "outputId": "8270485c-e5b8-41a0-a684-b61b142b56cf"
      },
      "execution_count": 16,
      "outputs": [
        {
          "output_type": "execute_result",
          "data": {
            "text/plain": [
              "array([0.        , 0.66666667, 1.33333333, 2.        , 2.66666667,\n",
              "       3.33333333, 4.        ])"
            ]
          },
          "metadata": {},
          "execution_count": 16
        }
      ]
    },
    {
      "cell_type": "markdown",
      "source": [
        "arrays con valores dados"
      ],
      "metadata": {
        "id": "oPJ2X5fS8j2L"
      }
    },
    {
      "cell_type": "code",
      "source": [
        "np.full((4,3),7)"
      ],
      "metadata": {
        "colab": {
          "base_uri": "https://localhost:8080/"
        },
        "id": "Yu3Vc6gA8nzL",
        "outputId": "8343efe4-13e9-40cb-c38b-0e6b151adc79"
      },
      "execution_count": 18,
      "outputs": [
        {
          "output_type": "execute_result",
          "data": {
            "text/plain": [
              "array([[7, 7, 7],\n",
              "       [7, 7, 7],\n",
              "       [7, 7, 7],\n",
              "       [7, 7, 7]])"
            ]
          },
          "metadata": {},
          "execution_count": 18
        }
      ]
    },
    {
      "cell_type": "markdown",
      "source": [
        "array matriz identidad y diagonal de unos"
      ],
      "metadata": {
        "id": "DxIeiti887uk"
      }
    },
    {
      "cell_type": "code",
      "source": [
        "np.eye((3),(0))"
      ],
      "metadata": {
        "colab": {
          "base_uri": "https://localhost:8080/"
        },
        "id": "NNWoEHdo9W-u",
        "outputId": "ab78edc8-bc44-46e7-bc8a-fbba2fcf088a"
      },
      "execution_count": 23,
      "outputs": [
        {
          "output_type": "execute_result",
          "data": {
            "text/plain": [
              "array([], shape=(3, 0), dtype=float64)"
            ]
          },
          "metadata": {},
          "execution_count": 23
        }
      ]
    },
    {
      "cell_type": "markdown",
      "source": [
        "array valos aleatorios"
      ],
      "metadata": {
        "id": "no5U8XjI-hYB"
      }
    },
    {
      "cell_type": "code",
      "source": [
        "np.random.random((4,4))"
      ],
      "metadata": {
        "colab": {
          "base_uri": "https://localhost:8080/"
        },
        "id": "6eykkCeQ-qPI",
        "outputId": "d887a039-5a1b-40a0-86f3-0e3b0fe971d3"
      },
      "execution_count": 28,
      "outputs": [
        {
          "output_type": "execute_result",
          "data": {
            "text/plain": [
              "array([[0.31277018, 0.45551313, 0.75331627, 0.79093376],\n",
              "       [0.36953182, 0.29002997, 0.74085523, 0.46843198],\n",
              "       [0.99503574, 0.65530234, 0.41496882, 0.93844275],\n",
              "       [0.67918789, 0.89891873, 0.71905967, 0.56082711]])"
            ]
          },
          "metadata": {},
          "execution_count": 28
        }
      ]
    },
    {
      "cell_type": "markdown",
      "source": [
        "array de numeros vacios 4*3"
      ],
      "metadata": {
        "id": "K5ZP6uVG_FTZ"
      }
    },
    {
      "cell_type": "code",
      "source": [
        "np.empty((4*3))"
      ],
      "metadata": {
        "colab": {
          "base_uri": "https://localhost:8080/"
        },
        "id": "49S0xke0_O7Q",
        "outputId": "8a4acd82-4e04-43e3-8815-e639b8ff7a41"
      },
      "execution_count": 30,
      "outputs": [
        {
          "output_type": "execute_result",
          "data": {
            "text/plain": [
              "array([10.5, 20. , 30. , 40. , 60. , 70. , 80. , 90. ,  5. ,  7. ,  9. ,\n",
              "        8. ])"
            ]
          },
          "metadata": {},
          "execution_count": 30
        }
      ]
    }
  ]
}